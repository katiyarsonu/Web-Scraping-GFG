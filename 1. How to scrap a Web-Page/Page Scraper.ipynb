{
 "cells": [
  {
   "cell_type": "code",
   "execution_count": null,
   "id": "906666de",
   "metadata": {},
   "outputs": [],
   "source": [
    "import requests\n",
    "link = 'http://quotes.toscrape.com/'\n",
    "res = requests.get(link)\n",
    "html = res.text\n",
    "fd = open('main.html','w')\n",
    "fd.write(html)\n",
    "fd.close()"
   ]
  }
 ],
 "metadata": {
  "kernelspec": {
   "display_name": "Python 3 (ipykernel)",
   "language": "python",
   "name": "python3"
  },
  "language_info": {
   "codemirror_mode": {
    "name": "ipython",
    "version": 3
   },
   "file_extension": ".py",
   "mimetype": "text/x-python",
   "name": "python",
   "nbconvert_exporter": "python",
   "pygments_lexer": "ipython3",
   "version": "3.9.7"
  }
 },
 "nbformat": 4,
 "nbformat_minor": 5
}
